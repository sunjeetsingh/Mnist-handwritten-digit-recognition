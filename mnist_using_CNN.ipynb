{
  "nbformat": 4,
  "nbformat_minor": 0,
  "metadata": {
    "colab": {
      "name": "mnist_using_CNN.ipynb",
      "provenance": [],
      "authorship_tag": "ABX9TyNNh0Il1ldcKkP4Jr8UFxag"
    },
    "kernelspec": {
      "name": "python3",
      "display_name": "Python 3"
    },
    "language_info": {
      "name": "python"
    }
  },
  "cells": [
    {
      "cell_type": "code",
      "metadata": {
        "id": "zvr0lCOdqEV1"
      },
      "source": [
        "import numpy as np\n",
        "import matplotlib as plt\n",
        "import cv2\n",
        "from google.colab.patches import cv2_imshow\n",
        "from tensorflow.keras.models import Sequential\n",
        "from tensorflow.keras.layers import Conv2D, MaxPooling2D, Flatten, Dense\n",
        "from tensorflow.keras.preprocessing.image import ImageDataGenerator\n",
        "from tensorflow.keras.utils import to_categorical\n",
        "# importing all the required libraries"
      ],
      "execution_count": 1,
      "outputs": []
    },
    {
      "cell_type": "code",
      "metadata": {
        "id": "U8eSnY2MGO2h"
      },
      "source": [
        "from tensorflow.keras.datasets import mnist #importing the Mnist dataset"
      ],
      "execution_count": 2,
      "outputs": []
    },
    {
      "cell_type": "code",
      "metadata": {
        "colab": {
          "base_uri": "https://localhost:8080/"
        },
        "id": "L5vpso4fGtqy",
        "outputId": "02a0b39f-3529-45de-f4b5-bc04952be92b"
      },
      "source": [
        "(xtrain,ytrain), (xtest,ytest) = mnist.load_data()  #gathering the train and test data"
      ],
      "execution_count": 3,
      "outputs": [
        {
          "output_type": "stream",
          "text": [
            "Downloading data from https://storage.googleapis.com/tensorflow/tf-keras-datasets/mnist.npz\n",
            "11493376/11490434 [==============================] - 0s 0us/step\n"
          ],
          "name": "stdout"
        }
      ]
    },
    {
      "cell_type": "code",
      "metadata": {
        "id": "QyiYs4aEPd1N"
      },
      "source": [
        "#import pickle\n",
        "#pickle.dump(xtrain, open('xtrain_mnist', 'wb'))"
      ],
      "execution_count": null,
      "outputs": []
    },
    {
      "cell_type": "code",
      "metadata": {
        "id": "HIMnq6K52Qr6"
      },
      "source": [
        "xtrain1 = xtrain[:1000]  #using only first 1000 images so that training time can be shortened, skip this if you want to train the CNN on the whole dataset \n",
        "ytrain1 = ytrain[:1000]"
      ],
      "execution_count": 4,
      "outputs": []
    },
    {
      "cell_type": "code",
      "metadata": {
        "colab": {
          "base_uri": "https://localhost:8080/"
        },
        "id": "Cr9jfxK1GX9Z",
        "outputId": "49ab575f-f7cb-46cf-a517-d78f5f39acb5"
      },
      "source": [
        "xtrain.shape"
      ],
      "execution_count": 7,
      "outputs": [
        {
          "output_type": "execute_result",
          "data": {
            "text/plain": [
              "(60000, 28, 28)"
            ]
          },
          "metadata": {
            "tags": []
          },
          "execution_count": 7
        }
      ]
    },
    {
      "cell_type": "code",
      "metadata": {
        "id": "aVqKQLDCHQ8g"
      },
      "source": [
        "xtrain1 = xtrain1.reshape(xtrain1.shape[0],28,28,1)\n",
        "xtest = xtest.reshape(xtest.shape[0],28,28,1)\n",
        "ytrain1 = to_categorical(ytrain1) #one hot encoding\n",
        "ytest = to_categorical(ytest)\n",
        "#training_generator = ImageDataGenerator(height_shift_range = 0.2, width_shift_range = 0.2, brightness_range = [0.5,1.5], zoom_range = 0.2)\n",
        "#training_data = training_generator.fit(xtrain)"
      ],
      "execution_count": 8,
      "outputs": []
    },
    {
      "cell_type": "code",
      "metadata": {
        "id": "EanGNWHkHjgb"
      },
      "source": [
        "network = Sequential()\n",
        "network.add(Conv2D(filters = 32, kernel_size = (3,3), activation = 'relu', input_shape=(28,28,1)))\n",
        "network.add(Conv2D(filters = 32, kernel_size = (3,3), activation = 'relu'))\n",
        "network.add(MaxPooling2D(pool_size = (2,2)))\n",
        "network.add(Conv2D(filters = 32, kernel_size = (3,3), activation = 'relu', input_shape=(28,28,1)))\n",
        "network.add(Conv2D(filters = 32, kernel_size = (3,3), activation = 'relu'))                      \n",
        "network.add(MaxPooling2D(pool_size = (2,2)))\n",
        "\n",
        "\n",
        "\n",
        "network.add(Flatten())\n",
        "\n",
        "network.add(Dense(units = 397, activation = 'relu'))\n",
        "network.add(Dense(units = 200 , activation = 'relu'))\n",
        "network.add(Dense(units = 100, activation = 'relu'))\n",
        "network.add(Dense(units = 1, activation = 'softmax'))\n",
        "#CNN for classification"
      ],
      "execution_count": 16,
      "outputs": []
    },
    {
      "cell_type": "code",
      "metadata": {
        "colab": {
          "base_uri": "https://localhost:8080/"
        },
        "id": "0IIRACJQsPoR",
        "outputId": "cc17f572-66e7-49aa-a64e-57ffb705db7a"
      },
      "source": [
        "network.summary()"
      ],
      "execution_count": null,
      "outputs": [
        {
          "output_type": "stream",
          "text": [
            "Model: \"sequential_2\"\n",
            "_________________________________________________________________\n",
            "Layer (type)                 Output Shape              Param #   \n",
            "=================================================================\n",
            "conv2d_4 (Conv2D)            (None, 26, 26, 32)        320       \n",
            "_________________________________________________________________\n",
            "conv2d_5 (Conv2D)            (None, 24, 24, 32)        9248      \n",
            "_________________________________________________________________\n",
            "max_pooling2d_4 (MaxPooling2 (None, 12, 12, 32)        0         \n",
            "_________________________________________________________________\n",
            "conv2d_6 (Conv2D)            (None, 10, 10, 32)        9248      \n",
            "_________________________________________________________________\n",
            "conv2d_7 (Conv2D)            (None, 8, 8, 32)          9248      \n",
            "_________________________________________________________________\n",
            "max_pooling2d_5 (MaxPooling2 (None, 4, 4, 32)          0         \n",
            "_________________________________________________________________\n",
            "flatten_2 (Flatten)          (None, 512)               0         \n",
            "_________________________________________________________________\n",
            "dense_8 (Dense)              (None, 397)               203661    \n",
            "_________________________________________________________________\n",
            "dense_9 (Dense)              (None, 200)               79600     \n",
            "_________________________________________________________________\n",
            "dense_10 (Dense)             (None, 100)               20100     \n",
            "_________________________________________________________________\n",
            "dense_11 (Dense)             (None, 10)                1010      \n",
            "=================================================================\n",
            "Total params: 332,435\n",
            "Trainable params: 332,435\n",
            "Non-trainable params: 0\n",
            "_________________________________________________________________\n"
          ],
          "name": "stdout"
        }
      ]
    },
    {
      "cell_type": "code",
      "metadata": {
        "id": "ceW-jOVYwH2s"
      },
      "source": [
        "network.compile(optimizer = 'Adam', loss = 'categorical_crossentropy', metrics = ['accuracy'])"
      ],
      "execution_count": 17,
      "outputs": []
    },
    {
      "cell_type": "code",
      "metadata": {
        "colab": {
          "base_uri": "https://localhost:8080/"
        },
        "id": "qqupnOBwx8kV",
        "outputId": "b9667e92-0121-4897-d2bb-027e8b4ae302"
      },
      "source": [
        "history = network.fit(xtrain1, ytrain1, epochs = 50)  #fit the model "
      ],
      "execution_count": 18,
      "outputs": [
        {
          "output_type": "stream",
          "text": [
            "Epoch 1/50\n",
            "32/32 [==============================] - 3s 66ms/step - loss: 0.0000e+00 - accuracy: 0.1092\n",
            "Epoch 2/50\n",
            "32/32 [==============================] - 2s 64ms/step - loss: 0.0000e+00 - accuracy: 0.1157\n",
            "Epoch 3/50\n",
            "32/32 [==============================] - 2s 64ms/step - loss: 0.0000e+00 - accuracy: 0.1124\n",
            "Epoch 4/50\n",
            "32/32 [==============================] - 2s 64ms/step - loss: 0.0000e+00 - accuracy: 0.1091\n",
            "Epoch 5/50\n",
            "32/32 [==============================] - 2s 65ms/step - loss: 0.0000e+00 - accuracy: 0.1168\n",
            "Epoch 6/50\n",
            "32/32 [==============================] - 2s 65ms/step - loss: 0.0000e+00 - accuracy: 0.1303\n",
            "Epoch 7/50\n",
            "32/32 [==============================] - 2s 64ms/step - loss: 0.0000e+00 - accuracy: 0.0990\n",
            "Epoch 8/50\n",
            "32/32 [==============================] - 2s 65ms/step - loss: 0.0000e+00 - accuracy: 0.1153\n",
            "Epoch 9/50\n",
            "32/32 [==============================] - 2s 65ms/step - loss: 0.0000e+00 - accuracy: 0.1192\n",
            "Epoch 10/50\n",
            "32/32 [==============================] - 2s 65ms/step - loss: 0.0000e+00 - accuracy: 0.1054\n",
            "Epoch 11/50\n",
            "32/32 [==============================] - 2s 65ms/step - loss: 0.0000e+00 - accuracy: 0.1228\n",
            "Epoch 12/50\n",
            "32/32 [==============================] - 2s 64ms/step - loss: 0.0000e+00 - accuracy: 0.1181\n",
            "Epoch 13/50\n",
            "32/32 [==============================] - 2s 66ms/step - loss: 0.0000e+00 - accuracy: 0.1091\n",
            "Epoch 14/50\n",
            "32/32 [==============================] - 2s 64ms/step - loss: 0.0000e+00 - accuracy: 0.1286\n",
            "Epoch 15/50\n",
            "32/32 [==============================] - 2s 65ms/step - loss: 0.0000e+00 - accuracy: 0.1216\n",
            "Epoch 16/50\n",
            "32/32 [==============================] - 2s 65ms/step - loss: 0.0000e+00 - accuracy: 0.1164\n",
            "Epoch 17/50\n",
            "32/32 [==============================] - 2s 65ms/step - loss: 0.0000e+00 - accuracy: 0.1065\n",
            "Epoch 18/50\n",
            "32/32 [==============================] - 2s 64ms/step - loss: nan - accuracy: 0.1057\n",
            "Epoch 19/50\n",
            "32/32 [==============================] - 2s 65ms/step - loss: nan - accuracy: 0.1014\n",
            "Epoch 20/50\n",
            "32/32 [==============================] - 2s 65ms/step - loss: nan - accuracy: 0.1010\n",
            "Epoch 21/50\n",
            "32/32 [==============================] - 2s 65ms/step - loss: nan - accuracy: 0.1070\n",
            "Epoch 22/50\n",
            "32/32 [==============================] - 2s 66ms/step - loss: nan - accuracy: 0.0869\n",
            "Epoch 23/50\n",
            "32/32 [==============================] - 2s 65ms/step - loss: nan - accuracy: 0.1048\n",
            "Epoch 24/50\n",
            "32/32 [==============================] - 2s 66ms/step - loss: nan - accuracy: 0.0942\n",
            "Epoch 25/50\n",
            "32/32 [==============================] - 2s 66ms/step - loss: nan - accuracy: 0.0844\n",
            "Epoch 26/50\n",
            "32/32 [==============================] - 2s 65ms/step - loss: nan - accuracy: 0.0887\n",
            "Epoch 27/50\n",
            "32/32 [==============================] - 2s 64ms/step - loss: nan - accuracy: 0.1053\n",
            "Epoch 28/50\n",
            "32/32 [==============================] - 2s 65ms/step - loss: nan - accuracy: 0.0926\n",
            "Epoch 29/50\n",
            "32/32 [==============================] - 2s 66ms/step - loss: nan - accuracy: 0.0963\n",
            "Epoch 30/50\n",
            "32/32 [==============================] - 2s 65ms/step - loss: nan - accuracy: 0.0960\n",
            "Epoch 31/50\n",
            "32/32 [==============================] - 2s 64ms/step - loss: nan - accuracy: 0.0998\n",
            "Epoch 32/50\n",
            "32/32 [==============================] - 2s 65ms/step - loss: nan - accuracy: 0.1027\n",
            "Epoch 33/50\n",
            "32/32 [==============================] - 2s 64ms/step - loss: nan - accuracy: 0.1030\n",
            "Epoch 34/50\n",
            "32/32 [==============================] - 2s 65ms/step - loss: nan - accuracy: 0.1013\n",
            "Epoch 35/50\n",
            "32/32 [==============================] - 2s 64ms/step - loss: nan - accuracy: 0.0915\n",
            "Epoch 36/50\n",
            "32/32 [==============================] - 2s 64ms/step - loss: nan - accuracy: 0.0876\n",
            "Epoch 37/50\n",
            "32/32 [==============================] - 2s 64ms/step - loss: nan - accuracy: 0.1079\n",
            "Epoch 38/50\n",
            "32/32 [==============================] - 2s 63ms/step - loss: nan - accuracy: 0.0859\n",
            "Epoch 39/50\n",
            "32/32 [==============================] - 2s 65ms/step - loss: nan - accuracy: 0.0971\n",
            "Epoch 40/50\n",
            "32/32 [==============================] - 2s 64ms/step - loss: nan - accuracy: 0.1096\n",
            "Epoch 41/50\n",
            "32/32 [==============================] - 2s 64ms/step - loss: nan - accuracy: 0.1041\n",
            "Epoch 42/50\n",
            "32/32 [==============================] - 2s 64ms/step - loss: nan - accuracy: 0.1042\n",
            "Epoch 43/50\n",
            "32/32 [==============================] - 2s 64ms/step - loss: nan - accuracy: 0.1107\n",
            "Epoch 44/50\n",
            "32/32 [==============================] - 2s 65ms/step - loss: nan - accuracy: 0.1099\n",
            "Epoch 45/50\n",
            "32/32 [==============================] - 2s 65ms/step - loss: nan - accuracy: 0.0958\n",
            "Epoch 46/50\n",
            "32/32 [==============================] - 2s 64ms/step - loss: nan - accuracy: 0.1003\n",
            "Epoch 47/50\n",
            "32/32 [==============================] - 2s 63ms/step - loss: nan - accuracy: 0.0982\n",
            "Epoch 48/50\n",
            "32/32 [==============================] - 2s 64ms/step - loss: nan - accuracy: 0.1105\n",
            "Epoch 49/50\n",
            "32/32 [==============================] - 2s 64ms/step - loss: nan - accuracy: 0.0988\n",
            "Epoch 50/50\n",
            "32/32 [==============================] - 2s 64ms/step - loss: nan - accuracy: 0.1033\n"
          ],
          "name": "stdout"
        }
      ]
    },
    {
      "cell_type": "code",
      "metadata": {
        "id": "6CCgBqD4Wa1s"
      },
      "source": [
        "predictions = network.predict(xtest) #running predictions"
      ],
      "execution_count": 19,
      "outputs": []
    },
    {
      "cell_type": "code",
      "metadata": {
        "id": "rXZgRqu5--v4"
      },
      "source": [
        "from sklearn.metrics import accuracy_score"
      ],
      "execution_count": 20,
      "outputs": []
    },
    {
      "cell_type": "code",
      "metadata": {
        "id": "XFxBL9Fq_GB0",
        "colab": {
          "base_uri": "https://localhost:8080/",
          "height": 357
        },
        "outputId": "28f5fc2a-a9aa-41ba-96b0-2f7ade9d3a7c"
      },
      "source": [
        "prediction_labels = np.argmax(predictions, axis = 1)\n",
        "ytest_labels = np.argmax(ytest,axis = 1)"
      ],
      "execution_count": 21,
      "outputs": [
        {
          "output_type": "error",
          "ename": "AxisError",
          "evalue": "ignored",
          "traceback": [
            "\u001b[0;31m---------------------------------------------------------------------------\u001b[0m",
            "\u001b[0;31mAxisError\u001b[0m                                 Traceback (most recent call last)",
            "\u001b[0;32m<ipython-input-21-25b5af8f728c>\u001b[0m in \u001b[0;36m<module>\u001b[0;34m()\u001b[0m\n\u001b[1;32m      1\u001b[0m \u001b[0mprediction_labels\u001b[0m \u001b[0;34m=\u001b[0m \u001b[0mnp\u001b[0m\u001b[0;34m.\u001b[0m\u001b[0margmax\u001b[0m\u001b[0;34m(\u001b[0m\u001b[0mpredictions\u001b[0m\u001b[0;34m,\u001b[0m \u001b[0maxis\u001b[0m \u001b[0;34m=\u001b[0m \u001b[0;36m1\u001b[0m\u001b[0;34m)\u001b[0m\u001b[0;34m\u001b[0m\u001b[0;34m\u001b[0m\u001b[0m\n\u001b[0;32m----> 2\u001b[0;31m \u001b[0mytest_labels\u001b[0m \u001b[0;34m=\u001b[0m \u001b[0mnp\u001b[0m\u001b[0;34m.\u001b[0m\u001b[0margmax\u001b[0m\u001b[0;34m(\u001b[0m\u001b[0mytest\u001b[0m\u001b[0;34m,\u001b[0m\u001b[0maxis\u001b[0m \u001b[0;34m=\u001b[0m \u001b[0;36m1\u001b[0m\u001b[0;34m)\u001b[0m\u001b[0;34m\u001b[0m\u001b[0;34m\u001b[0m\u001b[0m\n\u001b[0m",
            "\u001b[0;32m<__array_function__ internals>\u001b[0m in \u001b[0;36margmax\u001b[0;34m(*args, **kwargs)\u001b[0m\n",
            "\u001b[0;32m/usr/local/lib/python3.7/dist-packages/numpy/core/fromnumeric.py\u001b[0m in \u001b[0;36margmax\u001b[0;34m(a, axis, out)\u001b[0m\n\u001b[1;32m   1186\u001b[0m \u001b[0;34m\u001b[0m\u001b[0m\n\u001b[1;32m   1187\u001b[0m     \"\"\"\n\u001b[0;32m-> 1188\u001b[0;31m     \u001b[0;32mreturn\u001b[0m \u001b[0m_wrapfunc\u001b[0m\u001b[0;34m(\u001b[0m\u001b[0ma\u001b[0m\u001b[0;34m,\u001b[0m \u001b[0;34m'argmax'\u001b[0m\u001b[0;34m,\u001b[0m \u001b[0maxis\u001b[0m\u001b[0;34m=\u001b[0m\u001b[0maxis\u001b[0m\u001b[0;34m,\u001b[0m \u001b[0mout\u001b[0m\u001b[0;34m=\u001b[0m\u001b[0mout\u001b[0m\u001b[0;34m)\u001b[0m\u001b[0;34m\u001b[0m\u001b[0;34m\u001b[0m\u001b[0m\n\u001b[0m\u001b[1;32m   1189\u001b[0m \u001b[0;34m\u001b[0m\u001b[0m\n\u001b[1;32m   1190\u001b[0m \u001b[0;34m\u001b[0m\u001b[0m\n",
            "\u001b[0;32m/usr/local/lib/python3.7/dist-packages/numpy/core/fromnumeric.py\u001b[0m in \u001b[0;36m_wrapfunc\u001b[0;34m(obj, method, *args, **kwds)\u001b[0m\n\u001b[1;32m     56\u001b[0m \u001b[0;34m\u001b[0m\u001b[0m\n\u001b[1;32m     57\u001b[0m     \u001b[0;32mtry\u001b[0m\u001b[0;34m:\u001b[0m\u001b[0;34m\u001b[0m\u001b[0;34m\u001b[0m\u001b[0m\n\u001b[0;32m---> 58\u001b[0;31m         \u001b[0;32mreturn\u001b[0m \u001b[0mbound\u001b[0m\u001b[0;34m(\u001b[0m\u001b[0;34m*\u001b[0m\u001b[0margs\u001b[0m\u001b[0;34m,\u001b[0m \u001b[0;34m**\u001b[0m\u001b[0mkwds\u001b[0m\u001b[0;34m)\u001b[0m\u001b[0;34m\u001b[0m\u001b[0;34m\u001b[0m\u001b[0m\n\u001b[0m\u001b[1;32m     59\u001b[0m     \u001b[0;32mexcept\u001b[0m \u001b[0mTypeError\u001b[0m\u001b[0;34m:\u001b[0m\u001b[0;34m\u001b[0m\u001b[0;34m\u001b[0m\u001b[0m\n\u001b[1;32m     60\u001b[0m         \u001b[0;31m# A TypeError occurs if the object does have such a method in its\u001b[0m\u001b[0;34m\u001b[0m\u001b[0;34m\u001b[0m\u001b[0;34m\u001b[0m\u001b[0m\n",
            "\u001b[0;31mAxisError\u001b[0m: axis 1 is out of bounds for array of dimension 1"
          ]
        }
      ]
    },
    {
      "cell_type": "code",
      "metadata": {
        "colab": {
          "base_uri": "https://localhost:8080/",
          "height": 306
        },
        "id": "7dsY-9jF_UrO",
        "outputId": "e87ddb78-f537-4821-a031-0042aad8c4e0"
      },
      "source": [
        "print(accuracy_score(ytest, predictions))"
      ],
      "execution_count": 24,
      "outputs": [
        {
          "output_type": "error",
          "ename": "ValueError",
          "evalue": "ignored",
          "traceback": [
            "\u001b[0;31m---------------------------------------------------------------------------\u001b[0m",
            "\u001b[0;31mValueError\u001b[0m                                Traceback (most recent call last)",
            "\u001b[0;32m<ipython-input-24-857c84d4006b>\u001b[0m in \u001b[0;36m<module>\u001b[0;34m()\u001b[0m\n\u001b[0;32m----> 1\u001b[0;31m \u001b[0mprint\u001b[0m\u001b[0;34m(\u001b[0m\u001b[0maccuracy_score\u001b[0m\u001b[0;34m(\u001b[0m\u001b[0mytest\u001b[0m\u001b[0;34m,\u001b[0m \u001b[0mpredictions\u001b[0m\u001b[0;34m)\u001b[0m\u001b[0;34m)\u001b[0m\u001b[0;34m\u001b[0m\u001b[0;34m\u001b[0m\u001b[0m\n\u001b[0m",
            "\u001b[0;32m/usr/local/lib/python3.7/dist-packages/sklearn/metrics/_classification.py\u001b[0m in \u001b[0;36maccuracy_score\u001b[0;34m(y_true, y_pred, normalize, sample_weight)\u001b[0m\n\u001b[1;32m    183\u001b[0m \u001b[0;34m\u001b[0m\u001b[0m\n\u001b[1;32m    184\u001b[0m     \u001b[0;31m# Compute accuracy for each possible representation\u001b[0m\u001b[0;34m\u001b[0m\u001b[0;34m\u001b[0m\u001b[0;34m\u001b[0m\u001b[0m\n\u001b[0;32m--> 185\u001b[0;31m     \u001b[0my_type\u001b[0m\u001b[0;34m,\u001b[0m \u001b[0my_true\u001b[0m\u001b[0;34m,\u001b[0m \u001b[0my_pred\u001b[0m \u001b[0;34m=\u001b[0m \u001b[0m_check_targets\u001b[0m\u001b[0;34m(\u001b[0m\u001b[0my_true\u001b[0m\u001b[0;34m,\u001b[0m \u001b[0my_pred\u001b[0m\u001b[0;34m)\u001b[0m\u001b[0;34m\u001b[0m\u001b[0;34m\u001b[0m\u001b[0m\n\u001b[0m\u001b[1;32m    186\u001b[0m     \u001b[0mcheck_consistent_length\u001b[0m\u001b[0;34m(\u001b[0m\u001b[0my_true\u001b[0m\u001b[0;34m,\u001b[0m \u001b[0my_pred\u001b[0m\u001b[0;34m,\u001b[0m \u001b[0msample_weight\u001b[0m\u001b[0;34m)\u001b[0m\u001b[0;34m\u001b[0m\u001b[0;34m\u001b[0m\u001b[0m\n\u001b[1;32m    187\u001b[0m     \u001b[0;32mif\u001b[0m \u001b[0my_type\u001b[0m\u001b[0;34m.\u001b[0m\u001b[0mstartswith\u001b[0m\u001b[0;34m(\u001b[0m\u001b[0;34m'multilabel'\u001b[0m\u001b[0;34m)\u001b[0m\u001b[0;34m:\u001b[0m\u001b[0;34m\u001b[0m\u001b[0;34m\u001b[0m\u001b[0m\n",
            "\u001b[0;32m/usr/local/lib/python3.7/dist-packages/sklearn/metrics/_classification.py\u001b[0m in \u001b[0;36m_check_targets\u001b[0;34m(y_true, y_pred)\u001b[0m\n\u001b[1;32m     80\u001b[0m     \u001b[0mcheck_consistent_length\u001b[0m\u001b[0;34m(\u001b[0m\u001b[0my_true\u001b[0m\u001b[0;34m,\u001b[0m \u001b[0my_pred\u001b[0m\u001b[0;34m)\u001b[0m\u001b[0;34m\u001b[0m\u001b[0;34m\u001b[0m\u001b[0m\n\u001b[1;32m     81\u001b[0m     \u001b[0mtype_true\u001b[0m \u001b[0;34m=\u001b[0m \u001b[0mtype_of_target\u001b[0m\u001b[0;34m(\u001b[0m\u001b[0my_true\u001b[0m\u001b[0;34m)\u001b[0m\u001b[0;34m\u001b[0m\u001b[0;34m\u001b[0m\u001b[0m\n\u001b[0;32m---> 82\u001b[0;31m     \u001b[0mtype_pred\u001b[0m \u001b[0;34m=\u001b[0m \u001b[0mtype_of_target\u001b[0m\u001b[0;34m(\u001b[0m\u001b[0my_pred\u001b[0m\u001b[0;34m)\u001b[0m\u001b[0;34m\u001b[0m\u001b[0;34m\u001b[0m\u001b[0m\n\u001b[0m\u001b[1;32m     83\u001b[0m \u001b[0;34m\u001b[0m\u001b[0m\n\u001b[1;32m     84\u001b[0m     \u001b[0my_type\u001b[0m \u001b[0;34m=\u001b[0m \u001b[0;34m{\u001b[0m\u001b[0mtype_true\u001b[0m\u001b[0;34m,\u001b[0m \u001b[0mtype_pred\u001b[0m\u001b[0;34m}\u001b[0m\u001b[0;34m\u001b[0m\u001b[0;34m\u001b[0m\u001b[0m\n",
            "\u001b[0;32m/usr/local/lib/python3.7/dist-packages/sklearn/utils/multiclass.py\u001b[0m in \u001b[0;36mtype_of_target\u001b[0;34m(y)\u001b[0m\n\u001b[1;32m    282\u001b[0m     \u001b[0;32mif\u001b[0m \u001b[0my\u001b[0m\u001b[0;34m.\u001b[0m\u001b[0mdtype\u001b[0m\u001b[0;34m.\u001b[0m\u001b[0mkind\u001b[0m \u001b[0;34m==\u001b[0m \u001b[0;34m'f'\u001b[0m \u001b[0;32mand\u001b[0m \u001b[0mnp\u001b[0m\u001b[0;34m.\u001b[0m\u001b[0many\u001b[0m\u001b[0;34m(\u001b[0m\u001b[0my\u001b[0m \u001b[0;34m!=\u001b[0m \u001b[0my\u001b[0m\u001b[0;34m.\u001b[0m\u001b[0mastype\u001b[0m\u001b[0;34m(\u001b[0m\u001b[0mint\u001b[0m\u001b[0;34m)\u001b[0m\u001b[0;34m)\u001b[0m\u001b[0;34m:\u001b[0m\u001b[0;34m\u001b[0m\u001b[0;34m\u001b[0m\u001b[0m\n\u001b[1;32m    283\u001b[0m         \u001b[0;31m# [.1, .2, 3] or [[.1, .2, 3]] or [[1., .2]] and not [1., 2., 3.]\u001b[0m\u001b[0;34m\u001b[0m\u001b[0;34m\u001b[0m\u001b[0;34m\u001b[0m\u001b[0m\n\u001b[0;32m--> 284\u001b[0;31m         \u001b[0m_assert_all_finite\u001b[0m\u001b[0;34m(\u001b[0m\u001b[0my\u001b[0m\u001b[0;34m)\u001b[0m\u001b[0;34m\u001b[0m\u001b[0;34m\u001b[0m\u001b[0m\n\u001b[0m\u001b[1;32m    285\u001b[0m         \u001b[0;32mreturn\u001b[0m \u001b[0;34m'continuous'\u001b[0m \u001b[0;34m+\u001b[0m \u001b[0msuffix\u001b[0m\u001b[0;34m\u001b[0m\u001b[0;34m\u001b[0m\u001b[0m\n\u001b[1;32m    286\u001b[0m \u001b[0;34m\u001b[0m\u001b[0m\n",
            "\u001b[0;32m/usr/local/lib/python3.7/dist-packages/sklearn/utils/validation.py\u001b[0m in \u001b[0;36m_assert_all_finite\u001b[0;34m(X, allow_nan, msg_dtype)\u001b[0m\n\u001b[1;32m     58\u001b[0m                     \u001b[0mmsg_err\u001b[0m\u001b[0;34m.\u001b[0m\u001b[0mformat\u001b[0m\u001b[0;34m\u001b[0m\u001b[0;34m\u001b[0m\u001b[0m\n\u001b[1;32m     59\u001b[0m                     (type_err,\n\u001b[0;32m---> 60\u001b[0;31m                      msg_dtype if msg_dtype is not None else X.dtype)\n\u001b[0m\u001b[1;32m     61\u001b[0m             )\n\u001b[1;32m     62\u001b[0m     \u001b[0;31m# for object dtype data, we only check for NaNs (GH-13254)\u001b[0m\u001b[0;34m\u001b[0m\u001b[0;34m\u001b[0m\u001b[0;34m\u001b[0m\u001b[0m\n",
            "\u001b[0;31mValueError\u001b[0m: Input contains NaN, infinity or a value too large for dtype('float32')."
          ]
        }
      ]
    },
    {
      "cell_type": "code",
      "metadata": {
        "id": "67QsNgaYeuy3"
      },
      "source": [
        ""
      ],
      "execution_count": null,
      "outputs": []
    }
  ]
}