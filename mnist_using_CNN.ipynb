{
  "nbformat": 4,
  "nbformat_minor": 0,
  "metadata": {
    "colab": {
      "name": "mnist_using_CNN.ipynb",
      "provenance": [],
      "authorship_tag": "ABX9TyNNh0Il1ldcKkP4Jr8UFxag"
    },
    "kernelspec": {
      "name": "python3",
      "display_name": "Python 3"
    },
    "language_info": {
      "name": "python"
    }
  },
  "cells": [
    {
      "cell_type": "code",
      "metadata": {
        "id": "zvr0lCOdqEV1"
      },
      "source": [
        "import numpy as np\n",
        "import matplotlib as plt\n",
        "import cv2\n",
        "from google.colab.patches import cv2_imshow\n",
        "from tensorflow.keras.models import Sequential\n",
        "from tensorflow.keras.layers import Conv2D, MaxPooling2D, Flatten, Dense\n",
        "from tensorflow.keras.preprocessing.image import ImageDataGenerator\n",
        "from tensorflow.keras.utils import to_categorical\n",
        "# importing all the required libraries"
      ],
      "execution_count": 1,
      "outputs": []
    },
    {
      "cell_type": "code",
      "metadata": {
        "id": "U8eSnY2MGO2h"
      },
      "source": [
        "from tensorflow.keras.datasets import mnist #importing the Mnist dataset"
      ],
      "execution_count": 2,
      "outputs": []
    },
    {
      "cell_type": "code",
      "metadata": {
        "colab": {
          "base_uri": "https://localhost:8080/"
        },
        "id": "L5vpso4fGtqy",
        "outputId": "02a0b39f-3529-45de-f4b5-bc04952be92b"
      },
      "source": [
        "(xtrain,ytrain), (xtest,ytest) = mnist.load_data()  #gathering the train and test data"
      ],
      "execution_count": 3,
      "outputs": [
        {
          "output_type": "stream",
          "text": [
            "Downloading data from https://storage.googleapis.com/tensorflow/tf-keras-datasets/mnist.npz\n",
            "11493376/11490434 [==============================] - 0s 0us/step\n"
          ],
          "name": "stdout"
        }
      ]
    },
    {
      "cell_type": "code",
      "metadata": {
        "id": "QyiYs4aEPd1N"
      },
      "source": [
        "#import pickle\n",
        "#pickle.dump(xtrain, open('xtrain_mnist', 'wb'))"
      ],
      "execution_count": null,
      "outputs": []
    },
    {
      "cell_type": "code",
      "metadata": {
        "id": "HIMnq6K52Qr6"
      },
      "source": [
        "xtrain1 = xtrain[:1000]  #using only first 1000 images so that training time can be shortened, skip this if you want to train the CNN on the whole dataset \n",
        "ytrain1 = ytrain[:1000]"
      ],
      "execution_count": 4,
      "outputs": []
    },
    {
      "cell_type": "code",
      "metadata": {
        "colab": {
          "base_uri": "https://localhost:8080/"
        },
        "id": "Cr9jfxK1GX9Z",
        "outputId": "49ab575f-f7cb-46cf-a517-d78f5f39acb5"
      },
      "source": [
        "xtrain.shape"
      ],
      "execution_count": 7,
      "outputs": [
        {
          "output_type": "execute_result",
          "data": {
            "text/plain": [
              "(60000, 28, 28)"
            ]
          },
          "metadata": {
            "tags": []
          },
          "execution_count": 7
        }
      ]
    },
    {
      "cell_type": "code",
      "metadata": {
        "id": "aVqKQLDCHQ8g"
      },
      "source": [
        "xtrain1 = xtrain1.reshape(xtrain1.shape[0],28,28,1)\n",
        "xtest = xtest.reshape(xtest.shape[0],28,28,1)\n",
        "ytrain1 = to_categorical(ytrain1) #one hot encoding\n",
        "ytest = to_categorical(ytest)\n",
        "#training_generator = ImageDataGenerator(height_shift_range = 0.2, width_shift_range = 0.2, brightness_range = [0.5,1.5], zoom_range = 0.2)\n",
        "#training_data = training_generator.fit(xtrain)"
      ],
      "execution_count": 8,
      "outputs": []
    },
    {
      "cell_type": "code",
      "metadata": {
        "id": "EanGNWHkHjgb"
      },
      "source": [
        "network = Sequential()\n",
        "network.add(Conv2D(filters = 32, kernel_size = (3,3), activation = 'relu', input_shape=(28,28,1)))\n",
        "network.add(Conv2D(filters = 32, kernel_size = (3,3), activation = 'relu'))\n",
        "network.add(MaxPooling2D(pool_size = (2,2)))\n",
        "network.add(Conv2D(filters = 32, kernel_size = (3,3), activation = 'relu', input_shape=(28,28,1)))\n",
        "network.add(Conv2D(filters = 32, kernel_size = (3,3), activation = 'relu'))                      \n",
        "network.add(MaxPooling2D(pool_size = (2,2)))\n",
        "\n",
        "\n",
        "\n",
        "network.add(Flatten())\n",
        "\n",
        "network.add(Dense(units = 397, activation = 'relu'))\n",
        "network.add(Dense(units = 200 , activation = 'relu'))\n",
        "network.add(Dense(units = 100, activation = 'relu'))\n",
        "network.add(Dense(units = 10, activation = 'softmax'))\n",
        "#CNN for classification"
      ],
      "execution_count": 16,
      "outputs": []
    },
    {
      "cell_type": "code",
      "metadata": {
        "colab": {
          "base_uri": "https://localhost:8080/"
        },
        "id": "0IIRACJQsPoR",
        "outputId": "cc17f572-66e7-49aa-a64e-57ffb705db7a"
      },
      "source": [
        "network.summary()"
      ],
      "execution_count": null,
      "outputs": [
        {
          "output_type": "stream",
          "text": [
            "Model: \"sequential_2\"\n",
            "_________________________________________________________________\n",
            "Layer (type)                 Output Shape              Param #   \n",
            "=================================================================\n",
            "conv2d_4 (Conv2D)            (None, 26, 26, 32)        320       \n",
            "_________________________________________________________________\n",
            "conv2d_5 (Conv2D)            (None, 24, 24, 32)        9248      \n",
            "_________________________________________________________________\n",
            "max_pooling2d_4 (MaxPooling2 (None, 12, 12, 32)        0         \n",
            "_________________________________________________________________\n",
            "conv2d_6 (Conv2D)            (None, 10, 10, 32)        9248      \n",
            "_________________________________________________________________\n",
            "conv2d_7 (Conv2D)            (None, 8, 8, 32)          9248      \n",
            "_________________________________________________________________\n",
            "max_pooling2d_5 (MaxPooling2 (None, 4, 4, 32)          0         \n",
            "_________________________________________________________________\n",
            "flatten_2 (Flatten)          (None, 512)               0         \n",
            "_________________________________________________________________\n",
            "dense_8 (Dense)              (None, 397)               203661    \n",
            "_________________________________________________________________\n",
            "dense_9 (Dense)              (None, 200)               79600     \n",
            "_________________________________________________________________\n",
            "dense_10 (Dense)             (None, 100)               20100     \n",
            "_________________________________________________________________\n",
            "dense_11 (Dense)             (None, 10)                1010      \n",
            "=================================================================\n",
            "Total params: 332,435\n",
            "Trainable params: 332,435\n",
            "Non-trainable params: 0\n",
            "_________________________________________________________________\n"
          ],
          "name": "stdout"
        }
      ]
    },
    {
      "cell_type": "code",
      "metadata": {
        "id": "ceW-jOVYwH2s"
      },
      "source": [
        "network.compile(optimizer = 'Adam', loss = 'categorical_crossentropy', metrics = ['accuracy'])"
      ],
      "execution_count": 17,
      "outputs": []
    },
    {
      "cell_type": "code",
      "metadata": {
        "id": "qqupnOBwx8kV"
      },
      "source": [
        "history = network.fit(xtrain1, ytrain1, epochs = 50)  #fit the model "
      ],
      "execution_count": 1,
      "outputs": []
    },
    {
      "cell_type": "code",
      "metadata": {
        "id": "6CCgBqD4Wa1s"
      },
      "source": [
        "predictions = network.predict(xtest) #running predictions"
      ],
      "execution_count": 19,
      "outputs": []
    },
    {
      "cell_type": "code",
      "metadata": {
        "id": "rXZgRqu5--v4"
      },
      "source": [
        "from sklearn.metrics import accuracy_score"
      ],
      "execution_count": 20,
      "outputs": []
    },
    {
      "cell_type": "code",
      "metadata": {
        "id": "XFxBL9Fq_GB0"
      },
      "source": [
        "prediction_labels = np.argmax(predictions, axis = 1)\n",
        "ytest_labels = np.argmax(ytest,axis = 1)"
      ],
      "execution_count": 2,
      "outputs": []
    },
    {
      "cell_type": "code",
      "metadata": {
        "id": "7dsY-9jF_UrO"
      },
      "source": [
        "print(accuracy_score(ytest, predictions))"
      ],
      "execution_count": 3,
      "outputs": []
    },
    {
      "cell_type": "code",
      "metadata": {
        "id": "67QsNgaYeuy3"
      },
      "source": [
        ""
      ],
      "execution_count": null,
      "outputs": []
    }
  ]
}
